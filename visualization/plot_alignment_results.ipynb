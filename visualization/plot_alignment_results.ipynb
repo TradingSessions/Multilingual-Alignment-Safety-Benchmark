{
 "cells": [
  {
   "cell_type": "markdown",
   "metadata": {},
   "source": "# Multilingual Alignment Safety Benchmark - Visualization Dashboard\n\nThis notebook provides comprehensive visualization and analysis tools for MASB-Alt evaluation results."
  },
  {
   "cell_type": "code",
   "execution_count": null,
   "metadata": {},
   "outputs": [],
   "source": "# Import required libraries\nimport pandas as pd\nimport numpy as np\nimport matplotlib.pyplot as plt\nimport seaborn as sns\nimport plotly.express as px\nimport plotly.graph_objects as go\nfrom plotly.subplots import make_subplots\nimport json\nimport sqlite3\nfrom pathlib import Path\nimport warnings\nwarnings.filterwarnings('ignore')\n\n# Set style\nplt.style.use('seaborn-v0_8-darkgrid')\nsns.set_palette(\"husl\")\n\n# Configure display options\npd.set_option('display.max_columns', None)\npd.set_option('display.max_rows', 100)"
  }
 ],
 "metadata": {},
 "nbformat": 4,
 "nbformat_minor": 2
}